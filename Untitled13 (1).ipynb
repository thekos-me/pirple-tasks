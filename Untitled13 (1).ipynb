{
 "cells": [
  {
   "cell_type": "code",
   "execution_count": 154,
   "metadata": {},
   "outputs": [
    {
     "name": "stdout",
     "output_type": "stream",
     "text": [
      "please write a file name: good\n"
     ]
    }
   ],
   "source": [
    "file = input(\"please write a file name: \")"
   ]
  },
  {
   "cell_type": "code",
   "execution_count": 155,
   "metadata": {},
   "outputs": [],
   "source": [
    "import os.path\n",
    "exist = os.path.exists(file)"
   ]
  },
  {
   "cell_type": "code",
   "execution_count": 156,
   "metadata": {
    "scrolled": true
   },
   "outputs": [
    {
     "name": "stdout",
     "output_type": "stream",
     "text": [
      "depending on whether you want to read the file write True or False: false\n",
      "depending on whether you want to delete the file write True or False: false\n",
      "depending on whether you want to append to the file write True or False: false\n",
      "depending on whether you want to relace a line, write True or False: true\n",
      "please write the line number: 2\n",
      "please write a sustitute text: I think I am getting good at programming, thanks Pirple.\n"
     ]
    }
   ],
   "source": [
    "if exist == False:\n",
    "    newfile = open(file,\"w\")\n",
    "    text = input(\"please write text to file: \")\n",
    "    write = newfile.write(text)\n",
    "    newfile.close()\n",
    "if exist == True:\n",
    "    rd=input(\"depending on whether you want to read the file write True or False: \")\n",
    "    dele=input(\"depending on whether you want to delete the file write True or False: \")\n",
    "    app=input(\"depending on whether you want to append to the file write True or False: \")\n",
    "    replace = input(\"depending on whether you want to relace a line, write True or False: \")\n",
    "    read = \"true\"\n",
    "    delete = \"true\"\n",
    "    append = \"true\"\n",
    "    replaceline = \"true\"\n",
    "    if rd == read:\n",
    "        newfile = open(file,\"r+\")\n",
    "        read = newfile.read()\n",
    "        print(read)\n",
    "        newfile.close()\n",
    "    elif dele ==delete:\n",
    "        del file\n",
    "        newfile = open(input(\"please write newfile name: \"),\"w\")\n",
    "        text = input(\"please andd text to file\")\n",
    "        newfile.write(text)\n",
    "    elif app == append: \n",
    "        newfile = open(file,\"a\")\n",
    "        text = input(\"please write additional text: \")\n",
    "        newfile = newfile.write(text)\n",
    "if replace ==replaceline:\n",
    "    insertline = int(input(\"please write the line number: \"))\n",
    "    replacetext = input(\"please write a sustitute text: \")\n",
    "        \n",
    "    \n",
    "    "
   ]
  },
  {
   "cell_type": "code",
   "execution_count": null,
   "metadata": {},
   "outputs": [],
   "source": []
  }
 ],
 "metadata": {
  "kernelspec": {
   "display_name": "Python 3",
   "language": "python",
   "name": "python3"
  },
  "language_info": {
   "codemirror_mode": {
    "name": "ipython",
    "version": 3
   },
   "file_extension": ".py",
   "mimetype": "text/x-python",
   "name": "python",
   "nbconvert_exporter": "python",
   "pygments_lexer": "ipython3",
   "version": "3.8.5"
  }
 },
 "nbformat": 4,
 "nbformat_minor": 4
}
